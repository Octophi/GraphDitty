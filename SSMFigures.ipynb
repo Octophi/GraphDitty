{
 "cells": [
  {
   "cell_type": "code",
   "execution_count": null,
   "metadata": {},
   "outputs": [],
   "source": [
    "import SongStructure\n",
    "import importlib\n",
    "from Laplacian import *\n",
    "import numpy as np\n",
    "import matplotlib.pyplot as plt\n",
    "import argparse\n",
    "import sys"
   ]
  },
  {
   "cell_type": "code",
   "execution_count": null,
   "metadata": {},
   "outputs": [],
   "source": [
    "parser = argparse.ArgumentParser()\n",
    "parser.add_argument('--filename', type=str, required=True, help=\"Path to audio file\")\n",
    "parser.add_argument('--do_animation', type=int, default=0, help='Save plots of iterations to disk')\n",
    "parser.add_argument('--plot_result', type=int, default=1, help='Plot the result of fusion')\n",
    "parser.add_argument('--sr', type=int, default=22050, help='Sample rate to use')\n",
    "parser.add_argument('--hop_length', type=int, default=512, help=\"Hop Size in samples\")\n",
    "parser.add_argument('--win_fac', type=int, default=10, help=\"Number of windows to average in a frame.  If negative, then do beat tracking, and subdivide by |win_fac| times within each beat\")\n",
    "parser.add_argument('--wins_per_block', type=int, default=20, help=\"Number of frames to stack in sliding window for every feature\")\n",
    "parser.add_argument('--K', type=int, default=5, help=\"Number of nearest neighbors in similarity network fusion.  If -1, then autotune to sqrt(N) for an NxN similarity matrix\")\n",
    "parser.add_argument('--reg_diag', type=float, default=1.0, help=\"Regularization for self-similarity promotion\")\n",
    "parser.add_argument('--reg_neighbs', type=float, default=0.5, help=\"Regularization for direct neighbor similarity promotion\")\n",
    "parser.add_argument('--niters', type=int, default=3, help=\"Number of iterations in similarity network fusion\")\n",
    "parser.add_argument('--neigs', type=int, default=8, help=\"Number of eigenvectors in the graph Laplacian\")\n",
    "parser.add_argument('--matfilename', type=str, default=\"out.mat\", help=\"Name of the .mat file to which to save the results\")\n",
    "parser.add_argument('--jsonfilename', type=str, default=\"out.json\", help=\"Name of the .json file to which to save results for viewing in the GUI\")\n",
    "parser.add_argument('--diffusion_znormalize', type=int, default=1, help=\"Whether to perform Z-normalization with diffusion maps to spread things out more\")\n",
    "\n",
    "sys.argv = [\"SongStructure.py\", \"--filename\", \"MJ.mp3\", \"--plot_result\", \"1\"]\n",
    "opt = parser.parse_args()\n",
    "\n",
    "res = getFusedSimilarity(opt.filename, sr=opt.sr, \\\n",
    "    hop_length=opt.hop_length, win_fac=opt.win_fac, wins_per_block=opt.wins_per_block, \\\n",
    "    K=opt.K, reg_diag=opt.reg_diag, reg_neighbs=opt.reg_neighbs, niters=opt.niters, \\\n",
    "    do_animation=opt.do_animation, plot_result=opt.plot_result, do_crema=True)"
   ]
  },
  {
   "cell_type": "code",
   "execution_count": null,
   "metadata": {},
   "outputs": [],
   "source": [
    "logfloor_quantile = 0.01\n",
    "Ws = res['Ws']\n",
    "features = res['features']\n",
    "times = res['times']\n",
    "timeticks = np.arange(times[0], times[-1], 50)\n",
    "timeticks_str = ['%i:%.2i'%(int(t/60), t%60) for t in timeticks]\n",
    "for f in Ws:\n",
    "    D = np.array(Ws[f])\n",
    "    floor = np.quantile(D.flatten(), logfloor_quantile)\n",
    "    D = np.log(D + floor)\n",
    "    plt.figure(figsize=(18, 6))\n",
    "    if 'Fused' not in f:\n",
    "        plt.subplot2grid((1, 10), (0, 0), colspan=6)\n",
    "        x = features[f]['x']\n",
    "        plt.title(f)\n",
    "        y_axis = ''\n",
    "        if 'CREMA' in f or 'Chroma' in f:\n",
    "            y_axis = 'chroma'\n",
    "        elif 'Tempo' in f:\n",
    "            y_axis = 'tempo'\n",
    "        if len(y_axis) > 0:\n",
    "            librosa.display.specshow(x, x_axis='time', y_axis=y_axis)\n",
    "        else:\n",
    "            librosa.display.specshow(x, x_axis='time')\n",
    "    plt.subplot2grid((1, 10), (0, 6), colspan=4)\n",
    "    plt.imshow(D, cmap ='magma_r', extent=(times[0], times[-1], times[-1], times[0]), interpolation='nearest')\n",
    "    \n",
    "    plt.xticks(timeticks, timeticks_str)\n",
    "    plt.yticks(timeticks, timeticks_str)\n",
    "    plt.title(\"%s Similarity Matrix\"%f)\n",
    "    if 'Fused' not in f:\n",
    "        plt.savefig(\"MJ_%s.svg\"%f, bbox_inches='tight')"
   ]
  },
  {
   "cell_type": "code",
   "execution_count": null,
   "metadata": {},
   "outputs": [],
   "source": [
    "# Now vary window length\n",
    "for wins_per_block in range(1, 21):\n",
    "    res = getFusedSimilarity(opt.filename, sr=opt.sr, \\\n",
    "        hop_length=opt.hop_length, win_fac=opt.win_fac, wins_per_block=wins_per_block, \\\n",
    "        K=opt.K, reg_diag=opt.reg_diag, reg_neighbs=opt.reg_neighbs, niters=opt.niters, \\\n",
    "        do_animation=opt.do_animation, plot_result=opt.plot_result, do_crema=True)\n",
    "    plotFusionResults(res[\"Ws\"], {}, {}, res[\"times\"], win_fac=opt.win_fac, wins_per_block = wins_per_block)\n",
    "    plt.savefig(\"Wins%i.png\"%wins_per_block, bbox_inches='tight')"
   ]
  },
  {
   "cell_type": "code",
   "execution_count": null,
   "metadata": {},
   "outputs": [],
   "source": [
    "lapfn = getRandomWalkLaplacianEigsDense\n",
    "specfn = lambda v, dim, times: spectralClusterSequential(v, dim, times, rownorm=False)\n",
    "sr=22050\n",
    "hop_length=512\n",
    "win_fac=10\n",
    "wins_per_block=20\n",
    "K=3\n",
    "reg_diag=1.0\n",
    "reg_neighbs=0.0\n",
    "niters=10\n",
    "neigs=10\n",
    "\n",
    "Ws = res[\"Ws\"]\n",
    "times = res[\"times\"]\n",
    "vs = {name:lapfn(Ws[name])[:, 1:neigs+1] for name in Ws}\n",
    "alllabels = {name:[specfn(vs[name], k, times) for k in range(2, neigs+1)] for name in Ws}\n",
    "#print(\"Elapsed time spectral clustering: %.3g\"%(time.time()-tic))\n",
    "specintervals_hier = {name:[res['intervals_hier'] for res in alllabels[name]] for name in alllabels}\n",
    "speclabels_hier = {name:[res['labels_hier'] for res in alllabels[name]] for name in alllabels}\n"
   ]
  },
  {
   "cell_type": "code",
   "execution_count": null,
   "metadata": {},
   "outputs": [],
   "source": [
    "importlib.reload(SongStructure)\n",
    "#FeatureOrder = ['Chromas', 'MFCCs', 'Fused MFCC/Chroma', 'CREMA', 'Tempogram', 'Fused']\n",
    "FeatureOrder = ['Chromas']\n",
    "for l in range(8):\n",
    "    levels = [l]\n",
    "    SongStructure.plotFusionResults(Ws, vs, alllabels, times, opt.win_fac, FeatureOrder=FeatureOrder, levels=levels)#, specintervals_hier, speclabels_hier)\n",
    "    plt.savefig(\"ClusterLevel%i.png\"%l, bbox_inches='tight')"
   ]
  },
  {
   "cell_type": "code",
   "execution_count": null,
   "metadata": {},
   "outputs": [],
   "source": [
    "y, sr = librosa.load(\"MJ.mp3\", sr=22050)"
   ]
  },
  {
   "cell_type": "code",
   "execution_count": null,
   "metadata": {},
   "outputs": [],
   "source": [
    "# Segment out song based on clusters from fused Chroma/MFCC\n",
    "ls = alllabels['Fused MFCC/Chroma']\n",
    "ls = [l['labels'] for l in [ls[3], ls[6]]]\n",
    "print(ls[0].shape)\n",
    "print(sr)"
   ]
  },
  {
   "cell_type": "code",
   "execution_count": null,
   "metadata": {},
   "outputs": [],
   "source": [
    "from scipy.io import wavfile\n",
    "plt.figure(figsize=(12, 2))\n",
    "for i, l in enumerate(ls):\n",
    "    l = np.array(l) + 1\n",
    "    l[0] = np.max(l)+1\n",
    "    plt.clf()\n",
    "    plt.imshow(l[None, :], cmap='gray', aspect='auto')\n",
    "    plt.axis('off')\n",
    "    plt.savefig(\"Division%i.png\"%i, bbox_inches='tight')\n",
    "    for k in np.unique(l):\n",
    "        i1 = np.argmax(l == k)\n",
    "        i2 = np.argmin(l[i1::] == k) + i1\n",
    "        i1 *= 5120\n",
    "        i2 *= 5120\n",
    "        print(i, i1, i2)\n",
    "        x = y[i1:i2]\n",
    "        wavfile.write(\"MJ_%i_%i.wav\"%(i, k), sr, x)\n",
    "        \n",
    "        plt.clf()\n",
    "        plt.imshow(l[None, :], cmap='magma_r', aspect='auto')\n",
    "        plt.axis('off')\n",
    "        lk = np.array(l)\n",
    "        lk[np.abs(lk-k) > 0] = 0\n",
    "        lk[lk > 0] = 255\n",
    "        lk[lk == 0] = 0\n",
    "        lk = 255-lk\n",
    "        lk = np.array(lk[None, :, None], dtype=int)\n",
    "        lk = np.concatenate((lk, lk, lk, lk), axis=2)\n",
    "        plt.imshow(lk, aspect='auto')\n",
    "        plt.axis('off')\n",
    "        plt.savefig(\"Division%i_%i.png\"%(i, k), bbox_inches='tight')"
   ]
  }
 ],
 "metadata": {
  "kernelspec": {
   "display_name": "Python 3",
   "language": "python",
   "name": "python3"
  },
  "language_info": {
   "codemirror_mode": {
    "name": "ipython",
    "version": 3
   },
   "file_extension": ".py",
   "mimetype": "text/x-python",
   "name": "python",
   "nbconvert_exporter": "python",
   "pygments_lexer": "ipython3",
   "version": "3.7.1"
  }
 },
 "nbformat": 4,
 "nbformat_minor": 2
}
