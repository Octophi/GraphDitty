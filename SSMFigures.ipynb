{
 "cells": [
  {
   "cell_type": "code",
   "execution_count": null,
   "metadata": {},
   "outputs": [],
   "source": [
    "from SongStructure import *\n",
    "import numpy as np\n",
    "import matplotlib.pyplot as plt\n",
    "import argparse\n",
    "import sys"
   ]
  },
  {
   "cell_type": "code",
   "execution_count": null,
   "metadata": {},
   "outputs": [],
   "source": [
    "parser = argparse.ArgumentParser()\n",
    "parser.add_argument('--filename', type=str, required=True, help=\"Path to audio file\")\n",
    "parser.add_argument('--do_animation', type=int, default=0, help='Save plots of iterations to disk')\n",
    "parser.add_argument('--plot_result', type=int, default=1, help='Plot the result of fusion')\n",
    "parser.add_argument('--sr', type=int, default=22050, help='Sample rate to use')\n",
    "parser.add_argument('--hop_length', type=int, default=512, help=\"Hop Size in samples\")\n",
    "parser.add_argument('--win_fac', type=int, default=10, help=\"Number of windows to average in a frame.  If negative, then do beat tracking, and subdivide by |win_fac| times within each beat\")\n",
    "parser.add_argument('--wins_per_block', type=int, default=20, help=\"Number of frames to stack in sliding window for every feature\")\n",
    "parser.add_argument('--K', type=int, default=5, help=\"Number of nearest neighbors in similarity network fusion.  If -1, then autotune to sqrt(N) for an NxN similarity matrix\")\n",
    "parser.add_argument('--reg_diag', type=float, default=1.0, help=\"Regularization for self-similarity promotion\")\n",
    "parser.add_argument('--reg_neighbs', type=float, default=0.5, help=\"Regularization for direct neighbor similarity promotion\")\n",
    "parser.add_argument('--niters', type=int, default=3, help=\"Number of iterations in similarity network fusion\")\n",
    "parser.add_argument('--neigs', type=int, default=8, help=\"Number of eigenvectors in the graph Laplacian\")\n",
    "parser.add_argument('--matfilename', type=str, default=\"out.mat\", help=\"Name of the .mat file to which to save the results\")\n",
    "parser.add_argument('--jsonfilename', type=str, default=\"out.json\", help=\"Name of the .json file to which to save results for viewing in the GUI\")\n",
    "parser.add_argument('--diffusion_znormalize', type=int, default=1, help=\"Whether to perform Z-normalization with diffusion maps to spread things out more\")\n",
    "\n",
    "sys.argv = [\"SongStructure.py\", \"--filename\", \"MJ.mp3\", \"--plot_result\", \"1\"]\n",
    "opt = parser.parse_args()\n",
    "\n",
    "res = getFusedSimilarity(opt.filename, sr=opt.sr, \\\n",
    "    hop_length=opt.hop_length, win_fac=opt.win_fac, wins_per_block=opt.wins_per_block, \\\n",
    "    K=opt.K, reg_diag=opt.reg_diag, reg_neighbs=opt.reg_neighbs, niters=opt.niters, \\\n",
    "    do_animation=opt.do_animation, plot_result=opt.plot_result, do_crema=True)"
   ]
  },
  {
   "cell_type": "code",
   "execution_count": null,
   "metadata": {},
   "outputs": [],
   "source": [
    "logfloor_quantile = 0.01\n",
    "Ws = res['Ws']\n",
    "features = res['features']\n",
    "times = res['times']\n",
    "timeticks = np.arange(times[0], times[-1], 50)\n",
    "timeticks_str = ['%i:%.2i'%(int(t/60), t%60) for t in timeticks]\n",
    "for f in Ws:\n",
    "    D = np.array(Ws[f])\n",
    "    floor = np.quantile(D.flatten(), logfloor_quantile)\n",
    "    D = np.log(D + floor)\n",
    "    plt.figure(figsize=(18, 6))\n",
    "    if 'Fused' not in f:\n",
    "        plt.subplot2grid((1, 10), (0, 0), colspan=6)\n",
    "        x = features[f]['x']\n",
    "        plt.title(f)\n",
    "        y_axis = ''\n",
    "        if 'CREMA' in f or 'Chroma' in f:\n",
    "            y_axis = 'chroma'\n",
    "        elif 'Tempo' in f:\n",
    "            y_axis = 'tempo'\n",
    "        if len(y_axis) > 0:\n",
    "            librosa.display.specshow(x, x_axis='time', y_axis=y_axis)\n",
    "        else:\n",
    "            librosa.display.specshow(x, x_axis='time')\n",
    "    plt.subplot2grid((1, 10), (0, 6), colspan=4)\n",
    "    plt.imshow(D, cmap ='magma_r', extent=(times[0], times[-1], times[-1], times[0]), interpolation='nearest')\n",
    "    \n",
    "    plt.xticks(timeticks, timeticks_str)\n",
    "    plt.yticks(timeticks, timeticks_str)\n",
    "    plt.title(\"%s Similarity Matrix\"%f)\n",
    "    if 'Fused' not in f:\n",
    "        plt.savefig(\"MJ_%s.svg\"%f, bbox_inches='tight')"
   ]
  },
  {
   "cell_type": "code",
   "execution_count": null,
   "metadata": {},
   "outputs": [],
   "source": [
    "# Now vary window length\n",
    "for wins_per_block in range(1, 21):\n",
    "    res = getFusedSimilarity(opt.filename, sr=opt.sr, \\\n",
    "        hop_length=opt.hop_length, win_fac=opt.win_fac, wins_per_block=wins_per_block, \\\n",
    "        K=opt.K, reg_diag=opt.reg_diag, reg_neighbs=opt.reg_neighbs, niters=opt.niters, \\\n",
    "        do_animation=opt.do_animation, plot_result=opt.plot_result, do_crema=True)\n",
    "    plotFusionResults(res[\"Ws\"], {}, {}, res[\"times\"], win_fac=opt.win_fac, wins_per_block = wins_per_block)\n",
    "    plt.savefig(\"Wins%i.png\"%wins_per_block, bbox_inches='tight')"
   ]
  },
  {
   "cell_type": "code",
   "execution_count": null,
   "metadata": {},
   "outputs": [],
   "source": []
  }
 ],
 "metadata": {
  "kernelspec": {
   "display_name": "Python 3",
   "language": "python",
   "name": "python3"
  },
  "language_info": {
   "codemirror_mode": {
    "name": "ipython",
    "version": 3
   },
   "file_extension": ".py",
   "mimetype": "text/x-python",
   "name": "python",
   "nbconvert_exporter": "python",
   "pygments_lexer": "ipython3",
   "version": "3.7.1"
  }
 },
 "nbformat": 4,
 "nbformat_minor": 2
}
